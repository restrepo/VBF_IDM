{
 "cells": [
  {
   "cell_type": "markdown",
   "metadata": {},
   "source": [
    "# Cuts from ROOT files"
   ]
  },
  {
   "cell_type": "markdown",
   "metadata": {},
   "source": [
    "## Initialization"
   ]
  },
  {
   "cell_type": "code",
   "execution_count": 33,
   "metadata": {
    "collapsed": true
   },
   "outputs": [],
   "source": [
    "import commands\n",
    "import numpy as np\n",
    "import pandas as pd"
   ]
  },
  {
   "cell_type": "code",
   "execution_count": 34,
   "metadata": {
    "collapsed": true
   },
   "outputs": [],
   "source": [
    "#If input samples is a list use 0 if is just one file use 1 on TSam variable\n",
    "def ChainConstructor(Samples, TreeName):\n",
    "    MainChain=ROOT.TChain(TreeName)\n",
    "    for filename in os.listdir(Samples):\n",
    "        for newfile in os.listdir(Samples+filename):\n",
    "            NSamples=Samples+filename+'/'+ newfile  \n",
    "            MainChain.Add(NSamples)\n",
    "            print NSamples+\" added!\"\n",
    "        #for f in Samples:\n",
    "        #    MainChain.Add(f)\n",
    "    return MainChain"
   ]
  },
  {
   "cell_type": "code",
   "execution_count": 35,
   "metadata": {
    "collapsed": true
   },
   "outputs": [],
   "source": [
    "from Generic import *"
   ]
  },
  {
   "cell_type": "code",
   "execution_count": 36,
   "metadata": {},
   "outputs": [
    {
     "data": {
      "text/plain": [
       "1656940672L"
      ]
     },
     "execution_count": 36,
     "metadata": {},
     "output_type": "execute_result"
    }
   ],
   "source": [
    "ROOT.gROOT.Macro(\"rootphi.C\")"
   ]
  },
  {
   "cell_type": "code",
   "execution_count": 37,
   "metadata": {
    "collapsed": true
   },
   "outputs": [],
   "source": [
    "from Generic import *\n",
    "\n",
    "ROOT.gROOT.ProcessLine(\"#include <math.h>\")\n",
    "ROOT.gROOT.Macro(\"rootphi.C\")\n",
    "\n",
    "#ROOT.gSystem.Load(\"/home/rsiii/Delphes-3.3.2/libDelphes.so\")\n",
    "#ROOT.gSystem.Load(\"/scratch/rsiii/Delphes-3.3.2/libDelphes.so\")\n",
    "ROOT.gSystem.Load(\"/home/gapalacic//HEP_tools/delphes/libDelphes.so\")\n",
    "#ROOT.gROOT.Macro(\"rootphi.C\")\n",
    "\n",
    "def round2(x):\n",
    "    return round(x,2)\n",
    "\n",
    "def GetHistoPy(RootFile,Tree,Var,BinsLim,CutApp,PDFname,DrawOpt):\n",
    "    '''\n",
    "    RootFile: RootFile created by Delphes\n",
    "    Tree:\n",
    "    Var: \n",
    "    BinsLim\n",
    "    CutApp\n",
    "    PDFname\n",
    "    DrawOpt\n",
    "    '''\n",
    "    ROOT.gROOT.Macro(\"rootphi.C\")\n",
    "    #RFile= ROOT.TFile(RootFile, \"read\")\n",
    "    MainChain=ROOT.TChain(Tree)\n",
    "    MainChain.Add(RootFile)\n",
    "    CurCanv = rootnotes.canvas(\"MyPlot\", (600, 600))\n",
    "    EntriesList=[]\n",
    "    for i in xrange(len(Var)):\n",
    "        HistName=Var[i].replace(\"(\",\"\").replace(\")\",\"\").replace(\"[\",\"\").replace(\"]\",\"\").replace(\":\",\"\").replace(\".\",\"\").replace(\"-\",\"_\").replace(\" \",\"_\").replace(\"&&\",\"_and_\").replace(\"&\",\"_and_\").replace(\"*\",\"_\").replace(\">\",\"g\").replace(\"<\",\"l\").replace(\",\",\"l\")\n",
    "        #print Var[i]+\" >> \"+HistName+BinsLim[i]\n",
    "        MainChain.Draw(Var[i]+\" >> \"+HistName+BinsLim[i],CutApp[i])\n",
    "        TemHisto=ROOT.gDirectory.Get(HistName)\n",
    "        TemHisto.Draw(DrawOpt)\n",
    "        if i!=0 and i!=(len(Var)-1):\n",
    "            CurCanv.Print(PDFname,\"Title:\"+HistName)\n",
    "        elif i==0:\n",
    "            CurCanv.Print(PDFname+\"(\",\"Title:\"+HistName)\n",
    "        elif i==(len(Var)-1):\n",
    "            CurCanv.Print(PDFname+\")\",\"Title:\"+HistName)\n",
    "        EntriesList.append(TemHisto.GetEntries())\n",
    "        del(TemHisto)\n",
    "    return EntriesList\n",
    "\n",
    "def check_cut(FILES,cut=\"(MissingET.MET>100.)\"):\n",
    "    HToExtract=[\"TMath::Sqrt(2*Jet[0].PT*Jet[1].PT*(TMath::CosH(Jet[1].Eta-Jet[0].Eta)-(TMath::Cos(Jet[1].Phi-Jet[0].Phi))))\",\n",
    "               \"TMath::Sqrt(2*Jet[0].PT*Jet[1].PT*(TMath::CosH(Jet[1].Eta-Jet[0].Eta)-(TMath::Cos(Jet[1].Phi-Jet[0].Phi))))\"]\n",
    "\n",
    "    Binning=[\"(200,10,5000)\",\"(200,10,5000)\"]\n",
    "\n",
    "\n",
    "    Cut0=cut\n",
    "\n",
    "\n",
    "    VBF=Cut0\n",
    "\n",
    "    Cuts=[\"\",VBF]\n",
    "    print FILES\n",
    "    TOTAL_ENTRIES=[]\n",
    "    Efficiency=[]\n",
    "    TOTAL_ENT_START=0\n",
    "    TOTAL_ENT_END=0\n",
    "\n",
    "    for i in xrange(len(FILES)):\n",
    "        #time.sleep(./home/gapalaci/IDM_VBF/Samples/Zvv_jets1)\n",
    "        PDFfile=\"tmp.pdf\" #\"IDM_VBFDM_LaLvsMH0_\"+str(i)+\".pdf\"\n",
    "        TOTAL_ENTRIES.append(GetHistoPy(FILES[i],\"Delphes\",HToExtract,Binning,Cuts,PDFfile,\"hist E\"))\n",
    "        print \"~~~~~~~~~~~~~~~~~~~~~~~~~~~~~~~~~~~~~~~~~~~~~~~~~~~~~~~~~~~~~~~~~~~~~~~~~~~~~~~~~~~~\"\n",
    "        print FILES[i], \"Eff:\", TOTAL_ENTRIES[i][-1]/TOTAL_ENTRIES[i][0]\n",
    "        Efficiency.append(TOTAL_ENTRIES[i][-1]/TOTAL_ENTRIES[i][0])\n",
    "        print \"Entries before cuts:\", TOTAL_ENTRIES[i][0], \"Entries after cuts:\", TOTAL_ENTRIES[i][-1]\n",
    "        print \"~~~~~~~~~~~~~~~~~~~~~~~~~~~~~~~~~~~~~~~~~~~~~~~~~~~~~~~~~~~~~~~~~~~~~~~~~~~~~~~~~~~~\"\n",
    "        \n",
    "    return TOTAL_ENTRIES\n",
    "\n",
    "\n",
    "def cuts_DY(FILES):\n",
    "    HToExtract=[\"TMath::Sqrt(2*Jet[0].PT*Jet[1].PT*(TMath::CosH(Jet[1].Eta-Jet[0].Eta)-(TMath::Cos(Jet[1].Phi-Jet[0].Phi))))\",\n",
    "               \"TMath::Sqrt(2*Jet[0].PT*Jet[1].PT*(TMath::CosH(Jet[1].Eta-Jet[0].Eta)-(TMath::Cos(Jet[1].Phi-Jet[0].Phi))))\"]\n",
    "\n",
    "    Binning=[\"(200,10,5000)\",\"(200,10,5000)\"]\n",
    "\n",
    "\n",
    "    Cut0=\"(MissingET.MET>260.)\"\n",
    "    Cut1=\"(Jet[0].PT>120.)\"\n",
    "    Cut2=\"(Jet[1].PT>90.)\"\n",
    "    Cut3=\"TMath::Abs(Jet[0].Flavor)<5\"\n",
    "    Cut4=\"TMath::Abs(Jet[1].Flavor)<5\"\n",
    "    Cut5=\"(TMath::Sqrt((TMath::Abs(Jet[0].Eta-Jet[1].Eta)*TMath::Abs(Jet[0].Eta-Jet[1].Eta))+(deltaPhi(Jet[0].Phi,Jet[1].Phi)*deltaPhi(Jet[0].Phi,Jet[1].Phi)))<1.8)\"\n",
    "    Cut6=\"((TMath::Sqrt(2*Jet[0].PT*Jet[1].PT*(TMath::CosH(Jet[1].Eta-Jet[0].Eta)-(TMath::Cos(Jet[1].Phi-Jet[0].Phi)))))>75.)\"\n",
    "    Cut7=\"((TMath::Sqrt(2*Jet[0].PT*Jet[1].PT*(TMath::CosH(Jet[1].Eta-Jet[0].Eta)-(TMath::Cos(Jet[1].Phi-Jet[0].Phi)))))<90.)\"\n",
    "    CutJM=\"(Jet_size==2)\"\n",
    "\n",
    "\n",
    "    VBF=CutJM+\"&&\"+Cut3+\"&&\"+Cut4+\"&&\"+Cut6+\"&&\"+Cut0\n",
    "    VBFandOS=VBF+\"&&\"+Cut5\n",
    "    JetsPT=Cut1+\"&&\"+Cut2 #+\"&&\"+Cut0\n",
    "\n",
    "    Cuts=[\"\",VBFandOS+\"&&\"+JetsPT+\"&&\"+Cut7]\n",
    "    print FILES\n",
    "    TOTAL_ENTRIES=[]\n",
    "    Efficiency=[]\n",
    "    TOTAL_ENT_START=0\n",
    "    TOTAL_ENT_END=0\n",
    "\n",
    "    for i in xrange(len(FILES)):\n",
    "        #time.sleep(./home/gapalaci/IDM_VBF/Samples/Zvv_jets1)\n",
    "        PDFfile=\"tmp.pdf\" #\"IDM_VBFDM_LaLvsMH0_\"+str(i)+\".pdf\"\n",
    "        TOTAL_ENTRIES.append(GetHistoPy(FILES[i],\"Delphes\",HToExtract,Binning,Cuts,PDFfile,\"hist E\"))\n",
    "        print \"~~~~~~~~~~~~~~~~~~~~~~~~~~~~~~~~~~~~~~~~~~~~~~~~~~~~~~~~~~~~~~~~~~~~~~~~~~~~~~~~~~~~\"\n",
    "        print FILES[i], \"Eff:\", TOTAL_ENTRIES[i][-1]/TOTAL_ENTRIES[i][0]\n",
    "        Efficiency.append(TOTAL_ENTRIES[i][-1]/TOTAL_ENTRIES[i][0])\n",
    "        print \"Entries before cuts:\", TOTAL_ENTRIES[i][0], \"Entries after cuts:\", TOTAL_ENTRIES[i][-1]\n",
    "        print \"~~~~~~~~~~~~~~~~~~~~~~~~~~~~~~~~~~~~~~~~~~~~~~~~~~~~~~~~~~~~~~~~~~~~~~~~~~~~~~~~~~~~\"\n",
    "        \n",
    "    return TOTAL_ENTRIES\n",
    "\n",
    "def cuts_VBF(FILES):\n",
    "    HToExtract=[\"TMath::Sqrt(2*Jet[0].PT*Jet[1].PT*(TMath::CosH(Jet[1].Eta-Jet[0].Eta)-(TMath::Cos(Jet[1].Phi-Jet[0].Phi))))\",\n",
    "               \"TMath::Sqrt(2*Jet[0].PT*Jet[1].PT*(TMath::CosH(Jet[1].Eta-Jet[0].Eta)-(TMath::Cos(Jet[1].Phi-Jet[0].Phi))))\"]\n",
    "\n",
    "    Binning=[\"(200,10,5000)\",\"(200,10,5000)\"]\n",
    "\n",
    "\n",
    "    Cut0=\"(MissingET.MET>180.)\"\n",
    "    Cut1=\"(Jet[0].PT>100.)\"\n",
    "    Cut2=\"(Jet[1].PT>50.)\"\n",
    "    Cut3=\"(TMath::Abs(Jet[0].Eta)<5.)\"\n",
    "    Cut4=\"(TMath::Abs(Jet[1].Eta)<5.)\"\n",
    "    Cut5=\"(TMath::Abs(Jet[0].Eta-Jet[1].Eta)>4.2)\"\n",
    "    Cut6=\"((Jet[0].Eta*Jet[1].Eta)<0.)\"\n",
    "    Cut7=\"((TMath::Sqrt(2*Jet[0].PT*Jet[1].PT*(TMath::CosH(Jet[1].Eta-Jet[0].Eta)-(TMath::Cos(Jet[1].Phi-Jet[0].Phi)))))>1000.)\"\n",
    "    CutJM=\"(Jet_size>=2)\"\n",
    "\n",
    "\n",
    "    VBF=CutJM+\"&&\"+Cut3+\"&&\"+Cut4+\"&&\"+Cut6+\"&&\"+Cut0\n",
    "    VBFandOS=VBF+\"&&\"+Cut5\n",
    "    JetsPT=Cut1+\"&&\"+Cut2 #+\"&&\"+Cut0\n",
    "\n",
    "    Cuts=[\"\",VBFandOS+\"&&\"+JetsPT+\"&&\"+Cut7]\n",
    "    print FILES\n",
    "    TOTAL_ENTRIES=[]\n",
    "    Efficiency=[]\n",
    "    TOTAL_ENT_START=0\n",
    "    TOTAL_ENT_END=0\n",
    "\n",
    "    for i in xrange(len(FILES)):\n",
    "        #time.sleep(./home/gapalaci/IDM_VBF/Samples/Zvv_jets1)\n",
    "        PDFfile=\"tmp.pdf\" #\"IDM_VBFDM_LaLvsMH0_\"+str(i)+\".pdf\"\n",
    "        TOTAL_ENTRIES.append(GetHistoPy(FILES[i],\"Delphes\",HToExtract,Binning,Cuts,PDFfile,\"hist E\"))\n",
    "        print \"~~~~~~~~~~~~~~~~~~~~~~~~~~~~~~~~~~~~~~~~~~~~~~~~~~~~~~~~~~~~~~~~~~~~~~~~~~~~~~~~~~~~\"\n",
    "        print FILES[i], \"Eff:\", TOTAL_ENTRIES[i][-1]/TOTAL_ENTRIES[i][0]\n",
    "        Efficiency.append(TOTAL_ENTRIES[i][-1]/TOTAL_ENTRIES[i][0])\n",
    "        print \"Entries before cuts:\", TOTAL_ENTRIES[i][0], \"Entries after cuts:\", TOTAL_ENTRIES[i][-1]\n",
    "        print \"~~~~~~~~~~~~~~~~~~~~~~~~~~~~~~~~~~~~~~~~~~~~~~~~~~~~~~~~~~~~~~~~~~~~~~~~~~~~~~~~~~~~\"\n",
    "    return TOTAL_ENTRIES"
   ]
  },
  {
   "cell_type": "markdown",
   "metadata": {},
   "source": [
    "## Analysis"
   ]
  },
  {
   "cell_type": "code",
   "execution_count": 38,
   "metadata": {
    "collapsed": true
   },
   "outputs": [],
   "source": [
    "lumi=1000 # fb-1"
   ]
  },
  {
   "cell_type": "code",
   "execution_count": 53,
   "metadata": {
    "collapsed": true
   },
   "outputs": [],
   "source": [
    "BP={3:pd.Series({'MH0':65, 'MHc':200,'MA0':189.5,'LaL':0.009,'La2':0.1}),\n",
    "        6:pd.Series({'MH0':65, 'MHc':500,'MA0':494,  'LaL':0.009,'La2':0.1}),\n",
    "        7:pd.Series({'MH0':65, 'MHc':750,'MA0':750,  'LaL':0.009,'La2':0.1}),\n",
    "        8:pd.Series({'MH0':110,'MHc':750,'MA0':750,  'LaL':0.009,'La2':0.1}), \n",
    "        9:pd.Series({'MH0':65, 'MHc':750,'MA0':750,  'LaL':0.5,  'La2':0.1})\n",
    "        }\n",
    "N=9\n",
    "MH0=int(BP[N].MH0)\n",
    "MHc=int(BP[N].MHc)\n",
    "nevents=100000\n",
    "LaL=BP[N].LaL\n",
    "if LaL%1==0:\n",
    "    LaL=int(LaL)"
   ]
  },
  {
   "cell_type": "code",
   "execution_count": 48,
   "metadata": {
    "collapsed": true
   },
   "outputs": [],
   "source": [
    "if LaL==0.009:\n",
    "    lambda_L=''\n",
    "else:\n",
    "    lambda_L='_{:s}'.format(str(LaL))\n",
    "lambda_L\n",
    "XS_sig=pd.read_csv('../madgraph/result_BP_{:d}_{:d}_vs_lambdaL{:s}.txt'.format(MHc,MH0,lambda_L),sep=' ').tag.values[0]"
   ]
  },
  {
   "cell_type": "code",
   "execution_count": 49,
   "metadata": {},
   "outputs": [
    {
     "data": {
      "text/plain": [
       "0.27469993169399998"
      ]
     },
     "execution_count": 49,
     "metadata": {},
     "output_type": "execute_result"
    }
   ],
   "source": [
    "XS_sig"
   ]
  },
  {
   "cell_type": "markdown",
   "metadata": {},
   "source": [
    "Check specific cut"
   ]
  },
  {
   "cell_type": "code",
   "execution_count": 58,
   "metadata": {
    "collapsed": true
   },
   "outputs": [],
   "source": [
    "nevents=10000\n",
    "XS_sig=0.13\n",
    "FILES=['../studies/IDM/BP_750_65_vs_lambdaL/Events/run_01/tag_1_delphes_events.root']"
   ]
  },
  {
   "cell_type": "code",
   "execution_count": 32,
   "metadata": {},
   "outputs": [
    {
     "name": "stdout",
     "output_type": "stream",
     "text": [
      "['../studies/IDM/BP_200_100_vs_lambdaL/Events/run_01/tag_1_delphes_events.root']\n",
      "~~~~~~~~~~~~~~~~~~~~~~~~~~~~~~~~~~~~~~~~~~~~~~~~~~~~~~~~~~~~~~~~~~~~~~~~~~~~~~~~~~~~\n",
      "../studies/IDM/BP_200_100_vs_lambdaL/Events/run_01/tag_1_delphes_events.root Eff: 0.530697625771\n",
      "Entries before cuts: 9561.0 Entries after cuts: 5074.0\n",
      "~~~~~~~~~~~~~~~~~~~~~~~~~~~~~~~~~~~~~~~~~~~~~~~~~~~~~~~~~~~~~~~~~~~~~~~~~~~~~~~~~~~~\n"
     ]
    },
    {
     "data": {
      "text/plain": [
       "[[9561.0, 5074.0]]"
      ]
     },
     "execution_count": 32,
     "metadata": {},
     "output_type": "execute_result"
    }
   ],
   "source": [
    "check_cut(FILES,cut=\"(MissingET.MET>100.)\")"
   ]
  },
  {
   "cell_type": "markdown",
   "metadata": {},
   "source": [
    "Full cuts"
   ]
  },
  {
   "cell_type": "code",
   "execution_count": 50,
   "metadata": {
    "collapsed": true
   },
   "outputs": [],
   "source": [
    "#FILES=['./signal.root']\n",
    "#FILES=['../tmp/Events/run_01/tag_1_delphes_events.root']\n",
    "#FILES=['../studies/IDM/BP_200_65_vs_lambdaL/Events/run_01/tag_1_delphes_events.root']\n",
    "FILES=['../output/delphes_events_{:d}_{:d}{:s}.root'.format(MH0,MHc,lambda_L)]\n",
    "#FILES=['../output/delphes_events_65_500.root']\n",
    "#FILES=['../output/delphes_events_65_750.root']\n",
    "#FILES=['../output/delphes_events_120_750.root']"
   ]
  },
  {
   "cell_type": "markdown",
   "metadata": {},
   "source": [
    "## Cuts VBF"
   ]
  },
  {
   "cell_type": "markdown",
   "metadata": {},
   "source": [
    "Efficiency calculation to build the matrix in [Significance_countours-many_lumis.ipynb](../Significance_countours-many_lumis.ipynb)"
   ]
  },
  {
   "cell_type": "code",
   "execution_count": 59,
   "metadata": {},
   "outputs": [
    {
     "name": "stdout",
     "output_type": "stream",
     "text": [
      "['../studies/IDM/BP_750_65_vs_lambdaL/Events/run_01/tag_1_delphes_events.root']\n",
      "~~~~~~~~~~~~~~~~~~~~~~~~~~~~~~~~~~~~~~~~~~~~~~~~~~~~~~~~~~~~~~~~~~~~~~~~~~~~~~~~~~~~\n",
      "../studies/IDM/BP_750_65_vs_lambdaL/Events/run_01/tag_1_delphes_events.root Eff: 0.0215503713778\n",
      "Entries before cuts: 9559.0 Entries after cuts: 206.0\n",
      "~~~~~~~~~~~~~~~~~~~~~~~~~~~~~~~~~~~~~~~~~~~~~~~~~~~~~~~~~~~~~~~~~~~~~~~~~~~~~~~~~~~~\n"
     ]
    }
   ],
   "source": [
    "TOTAL_ENTRIES=cuts_VBF(FILES)"
   ]
  },
  {
   "cell_type": "code",
   "execution_count": 62,
   "metadata": {},
   "outputs": [
    {
     "data": {
      "text/plain": [
       "2678.0000000000005"
      ]
     },
     "execution_count": 62,
     "metadata": {},
     "output_type": "execute_result"
    }
   ],
   "source": [
    "efi=TOTAL_ENTRIES[0][-1]/nevents\n",
    "XS_sig*efi*lumi*1000"
   ]
  },
  {
   "cell_type": "markdown",
   "metadata": {},
   "source": [
    "## Cuts DY"
   ]
  },
  {
   "cell_type": "code",
   "execution_count": 10,
   "metadata": {},
   "outputs": [
    {
     "data": {
      "text/plain": [
       "['../output/delphes_events_65_200.root']"
      ]
     },
     "execution_count": 10,
     "metadata": {},
     "output_type": "execute_result"
    }
   ],
   "source": [
    "FILES"
   ]
  },
  {
   "cell_type": "code",
   "execution_count": 12,
   "metadata": {
    "scrolled": true
   },
   "outputs": [
    {
     "name": "stdout",
     "output_type": "stream",
     "text": [
      "['../output/delphes_events_65_200.root']\n",
      "~~~~~~~~~~~~~~~~~~~~~~~~~~~~~~~~~~~~~~~~~~~~~~~~~~~~~~~~~~~~~~~~~~~~~~~~~~~~~~~~~~~~\n",
      "../output/delphes_events_65_200.root Eff: 0.00234229101383\n",
      "Entries before cuts: 94779.0 Entries after cuts: 222.0\n",
      "~~~~~~~~~~~~~~~~~~~~~~~~~~~~~~~~~~~~~~~~~~~~~~~~~~~~~~~~~~~~~~~~~~~~~~~~~~~~~~~~~~~~\n"
     ]
    }
   ],
   "source": [
    "TOTAL_ENTRIES=cuts_DY(FILES)"
   ]
  },
  {
   "cell_type": "code",
   "execution_count": 13,
   "metadata": {},
   "outputs": [
    {
     "data": {
      "text/plain": [
       "222.0"
      ]
     },
     "execution_count": 13,
     "metadata": {},
     "output_type": "execute_result"
    }
   ],
   "source": [
    "TOTAL_ENTRIES[0][-1]"
   ]
  },
  {
   "cell_type": "code",
   "execution_count": 16,
   "metadata": {
    "scrolled": true
   },
   "outputs": [
    {
     "data": {
      "text/plain": [
       "148.668663009954"
      ]
     },
     "execution_count": 16,
     "metadata": {},
     "output_type": "execute_result"
    }
   ],
   "source": [
    "efi=TOTAL_ENTRIES[0][-1]/nevents\n",
    "XS_sig*efi*lumi*1000 #pb->fb"
   ]
  },
  {
   "cell_type": "markdown",
   "metadata": {
    "collapsed": true
   },
   "source": [
    "## Backup"
   ]
  },
  {
   "cell_type": "code",
   "execution_count": 79,
   "metadata": {},
   "outputs": [
    {
     "data": {
      "text/plain": [
       "0.0089999999999999993"
      ]
     },
     "execution_count": 79,
     "metadata": {},
     "output_type": "execute_result"
    }
   ],
   "source": [
    "BP[N].LaL"
   ]
  },
  {
   "cell_type": "code",
   "execution_count": 82,
   "metadata": {},
   "outputs": [
    {
     "data": {
      "text/plain": [
       "0"
      ]
     },
     "execution_count": 82,
     "metadata": {},
     "output_type": "execute_result"
    }
   ],
   "source": [
    "ps.LaL.astype(int)"
   ]
  },
  {
   "cell_type": "code",
   "execution_count": 81,
   "metadata": {},
   "outputs": [
    {
     "name": "stdout",
     "output_type": "stream",
     "text": [
      "1\n"
     ]
    }
   ],
   "source": [
    "if ps.LaL==0.009: print(1)"
   ]
  },
  {
   "cell_type": "code",
   "execution_count": 196,
   "metadata": {},
   "outputs": [
    {
     "name": "stdout",
     "output_type": "stream",
     "text": [
      "3\n",
      "['../output/delphes_events_65_200.root']\n",
      "~~~~~~~~~~~~~~~~~~~~~~~~~~~~~~~~~~~~~~~~~~~~~~~~~~~~~~~~~~~~~~~~~~~~~~~~~~~~~~~~~~~~\n",
      "../output/delphes_events_65_200.root Eff: 0.00234229101383\n",
      "Entries before cuts: 94779.0 Entries after cuts: 222.0\n",
      "~~~~~~~~~~~~~~~~~~~~~~~~~~~~~~~~~~~~~~~~~~~~~~~~~~~~~~~~~~~~~~~~~~~~~~~~~~~~~~~~~~~~\n",
      "['../output/delphes_events_65_200.root']\n",
      "~~~~~~~~~~~~~~~~~~~~~~~~~~~~~~~~~~~~~~~~~~~~~~~~~~~~~~~~~~~~~~~~~~~~~~~~~~~~~~~~~~~~\n",
      "../output/delphes_events_65_200.root Eff: 0.000611949904515\n",
      "Entries before cuts: 94779.0 Entries after cuts: 58.0\n",
      "~~~~~~~~~~~~~~~~~~~~~~~~~~~~~~~~~~~~~~~~~~~~~~~~~~~~~~~~~~~~~~~~~~~~~~~~~~~~~~~~~~~~\n",
      "6\n",
      "['../output/delphes_events_65_500.root']\n",
      "~~~~~~~~~~~~~~~~~~~~~~~~~~~~~~~~~~~~~~~~~~~~~~~~~~~~~~~~~~~~~~~~~~~~~~~~~~~~~~~~~~~~\n",
      "../output/delphes_events_65_500.root Eff: 0.00798672778126\n",
      "Entries before cuts: 94031.0 Entries after cuts: 751.0\n",
      "~~~~~~~~~~~~~~~~~~~~~~~~~~~~~~~~~~~~~~~~~~~~~~~~~~~~~~~~~~~~~~~~~~~~~~~~~~~~~~~~~~~~\n",
      "['../output/delphes_events_65_500.root']\n",
      "~~~~~~~~~~~~~~~~~~~~~~~~~~~~~~~~~~~~~~~~~~~~~~~~~~~~~~~~~~~~~~~~~~~~~~~~~~~~~~~~~~~~\n",
      "../output/delphes_events_65_500.root Eff: 0.0232582871606\n",
      "Entries before cuts: 94031.0 Entries after cuts: 2187.0\n",
      "~~~~~~~~~~~~~~~~~~~~~~~~~~~~~~~~~~~~~~~~~~~~~~~~~~~~~~~~~~~~~~~~~~~~~~~~~~~~~~~~~~~~\n",
      "7\n",
      "['../output/delphes_events_65_750.root']\n",
      "~~~~~~~~~~~~~~~~~~~~~~~~~~~~~~~~~~~~~~~~~~~~~~~~~~~~~~~~~~~~~~~~~~~~~~~~~~~~~~~~~~~~\n",
      "../output/delphes_events_65_750.root Eff: 0.001986629667\n",
      "Entries before cuts: 95136.0 Entries after cuts: 189.0\n",
      "~~~~~~~~~~~~~~~~~~~~~~~~~~~~~~~~~~~~~~~~~~~~~~~~~~~~~~~~~~~~~~~~~~~~~~~~~~~~~~~~~~~~\n",
      "['../output/delphes_events_65_750.root']\n",
      "~~~~~~~~~~~~~~~~~~~~~~~~~~~~~~~~~~~~~~~~~~~~~~~~~~~~~~~~~~~~~~~~~~~~~~~~~~~~~~~~~~~~\n",
      "../output/delphes_events_65_750.root Eff: 0.0388286242852\n",
      "Entries before cuts: 95136.0 Entries after cuts: 3694.0\n",
      "~~~~~~~~~~~~~~~~~~~~~~~~~~~~~~~~~~~~~~~~~~~~~~~~~~~~~~~~~~~~~~~~~~~~~~~~~~~~~~~~~~~~\n",
      "8\n",
      "['../output/delphes_events_110_750.root']\n",
      "~~~~~~~~~~~~~~~~~~~~~~~~~~~~~~~~~~~~~~~~~~~~~~~~~~~~~~~~~~~~~~~~~~~~~~~~~~~~~~~~~~~~\n",
      "../output/delphes_events_110_750.root Eff: 0.00211668070767\n",
      "Entries before cuts: 94960.0 Entries after cuts: 201.0\n",
      "~~~~~~~~~~~~~~~~~~~~~~~~~~~~~~~~~~~~~~~~~~~~~~~~~~~~~~~~~~~~~~~~~~~~~~~~~~~~~~~~~~~~\n",
      "['../output/delphes_events_110_750.root']\n",
      "~~~~~~~~~~~~~~~~~~~~~~~~~~~~~~~~~~~~~~~~~~~~~~~~~~~~~~~~~~~~~~~~~~~~~~~~~~~~~~~~~~~~\n",
      "../output/delphes_events_110_750.root Eff: 0.0451874473463\n",
      "Entries before cuts: 94960.0 Entries after cuts: 4291.0\n",
      "~~~~~~~~~~~~~~~~~~~~~~~~~~~~~~~~~~~~~~~~~~~~~~~~~~~~~~~~~~~~~~~~~~~~~~~~~~~~~~~~~~~~\n",
      "9\n",
      "['../output/delphes_events_65_750_0.5.root']\n",
      "~~~~~~~~~~~~~~~~~~~~~~~~~~~~~~~~~~~~~~~~~~~~~~~~~~~~~~~~~~~~~~~~~~~~~~~~~~~~~~~~~~~~\n",
      "../output/delphes_events_65_750_0.5.root Eff: 0.000326886981462\n",
      "Entries before cuts: 94834.0 Entries after cuts: 31.0\n",
      "~~~~~~~~~~~~~~~~~~~~~~~~~~~~~~~~~~~~~~~~~~~~~~~~~~~~~~~~~~~~~~~~~~~~~~~~~~~~~~~~~~~~\n",
      "['../output/delphes_events_65_750_0.5.root']\n",
      "~~~~~~~~~~~~~~~~~~~~~~~~~~~~~~~~~~~~~~~~~~~~~~~~~~~~~~~~~~~~~~~~~~~~~~~~~~~~~~~~~~~~\n",
      "../output/delphes_events_65_750_0.5.root Eff: 0.0137397979628\n",
      "Entries before cuts: 94834.0 Entries after cuts: 1303.0\n",
      "~~~~~~~~~~~~~~~~~~~~~~~~~~~~~~~~~~~~~~~~~~~~~~~~~~~~~~~~~~~~~~~~~~~~~~~~~~~~~~~~~~~~\n"
     ]
    }
   ],
   "source": [
    "df=pd.DataFrame()\n",
    "for N in [3,6,7,8,9]:\n",
    "    print(N)\n",
    "    ps=pd.Series()\n",
    "    ps['BP']=N\n",
    "    ps['B_DY']=8500\n",
    "    ps['B_VBF']=23809\n",
    "    ps['MH0']=BP[N].MH0\n",
    "    ps['MHc']=BP[N].MHc\n",
    "    ps['MA0']=BP[N].MA0\n",
    "    nevents=100000\n",
    "    LaL=BP[N].LaL\n",
    "    if LaL%1==0:\n",
    "        LaL=int(LaL)\n",
    "    if LaL==0.009:\n",
    "        lambda_L=''\n",
    "    else:\n",
    "        lambda_L='_{:s}'.format(str(LaL))\n",
    "\n",
    "    ps['LaL']=BP[N].LaL\n",
    "    ps['XS_sig']=pd.read_csv('../madgraph/result_BP_{:d}_{:d}_vs_lambdaL{:s}.txt'.format(\n",
    "          ps.MHc.astype(int),ps.MH0.astype(int),lambda_L),sep=' ').tag.values[0]        \n",
    "    FILES=['../output/delphes_events_{:d}_{:d}{:s}.root'.format(\n",
    "        ps.MH0.astype(int),ps.MHc.astype(int),lambda_L)]\n",
    "    TOTAL_ENTRIES=cuts_DY(FILES)\n",
    "    efi=TOTAL_ENTRIES[0][-1]/nevents\n",
    "    ps['S_DY']=ps.XS_sig*efi*lumi*1000\n",
    "    TOTAL_ENTRIES=cuts_VBF(FILES)\n",
    "    efi=TOTAL_ENTRIES[0][-1]/nevents\n",
    "    ps['S_VBF']=ps.XS_sig*efi*lumi*1000\n",
    "    df=df.append(ps,ignore_index=True)\n",
    "\n",
    "    if N==10:\n",
    "        break\n",
    "\n",
    "for k in ['BP','MH0','S_DY','S_VBF']:\n",
    "    df[k]=df[k].astype(int)"
   ]
  },
  {
   "cell_type": "code",
   "execution_count": 197,
   "metadata": {
    "collapsed": true
   },
   "outputs": [],
   "source": [
    "dfn=df[['BP','MHc','MA0','MH0','LaL','XS_sig','B_DY','B_VBF','S_DY','S_VBF']]"
   ]
  },
  {
   "cell_type": "code",
   "execution_count": 198,
   "metadata": {},
   "outputs": [
    {
     "name": "stderr",
     "output_type": "stream",
     "text": [
      "/usr/local/lib/python2.7/dist-packages/ipykernel/__main__.py:2: SettingWithCopyWarning: \n",
      "A value is trying to be set on a copy of a slice from a DataFrame.\n",
      "Try using .loc[row_indexer,col_indexer] = value instead\n",
      "\n",
      "See the caveats in the documentation: http://pandas.pydata.org/pandas-docs/stable/indexing.html#indexing-view-versus-copy\n",
      "  from ipykernel import kernelapp as app\n",
      "/usr/local/lib/python2.7/dist-packages/ipykernel/__main__.py:3: SettingWithCopyWarning: \n",
      "A value is trying to be set on a copy of a slice from a DataFrame.\n",
      "Try using .loc[row_indexer,col_indexer] = value instead\n",
      "\n",
      "See the caveats in the documentation: http://pandas.pydata.org/pandas-docs/stable/indexing.html#indexing-view-versus-copy\n",
      "  app.launch_new_instance()\n"
     ]
    },
    {
     "data": {
      "text/html": [
       "<div>\n",
       "<table border=\"1\" class=\"dataframe\">\n",
       "  <thead>\n",
       "    <tr style=\"text-align: right;\">\n",
       "      <th></th>\n",
       "      <th>BP</th>\n",
       "      <th>MHc</th>\n",
       "      <th>MA0</th>\n",
       "      <th>MH0</th>\n",
       "      <th>LaL</th>\n",
       "      <th>XS_sig</th>\n",
       "      <th>B_DY</th>\n",
       "      <th>B_VBF</th>\n",
       "      <th>S_DY</th>\n",
       "      <th>S_VBF</th>\n",
       "      <th>sigma_DY</th>\n",
       "      <th>sigma_VBF</th>\n",
       "    </tr>\n",
       "  </thead>\n",
       "  <tbody>\n",
       "    <tr>\n",
       "      <th>0</th>\n",
       "      <td>3</td>\n",
       "      <td>200.0</td>\n",
       "      <td>189.5</td>\n",
       "      <td>65</td>\n",
       "      <td>0.009</td>\n",
       "      <td>0.066968</td>\n",
       "      <td>8500.0</td>\n",
       "      <td>23809.0</td>\n",
       "      <td>148</td>\n",
       "      <td>38</td>\n",
       "      <td>1.59</td>\n",
       "      <td>0.25</td>\n",
       "    </tr>\n",
       "    <tr>\n",
       "      <th>1</th>\n",
       "      <td>6</td>\n",
       "      <td>500.0</td>\n",
       "      <td>494.0</td>\n",
       "      <td>65</td>\n",
       "      <td>0.009</td>\n",
       "      <td>0.009063</td>\n",
       "      <td>8500.0</td>\n",
       "      <td>23809.0</td>\n",
       "      <td>68</td>\n",
       "      <td>198</td>\n",
       "      <td>0.73</td>\n",
       "      <td>1.28</td>\n",
       "    </tr>\n",
       "    <tr>\n",
       "      <th>2</th>\n",
       "      <td>7</td>\n",
       "      <td>750.0</td>\n",
       "      <td>750.0</td>\n",
       "      <td>65</td>\n",
       "      <td>0.009</td>\n",
       "      <td>0.008386</td>\n",
       "      <td>8500.0</td>\n",
       "      <td>23809.0</td>\n",
       "      <td>15</td>\n",
       "      <td>309</td>\n",
       "      <td>0.16</td>\n",
       "      <td>1.99</td>\n",
       "    </tr>\n",
       "    <tr>\n",
       "      <th>3</th>\n",
       "      <td>8</td>\n",
       "      <td>750.0</td>\n",
       "      <td>750.0</td>\n",
       "      <td>110</td>\n",
       "      <td>0.009</td>\n",
       "      <td>0.005455</td>\n",
       "      <td>8500.0</td>\n",
       "      <td>23809.0</td>\n",
       "      <td>10</td>\n",
       "      <td>234</td>\n",
       "      <td>0.11</td>\n",
       "      <td>1.51</td>\n",
       "    </tr>\n",
       "    <tr>\n",
       "      <th>4</th>\n",
       "      <td>9</td>\n",
       "      <td>750.0</td>\n",
       "      <td>750.0</td>\n",
       "      <td>65</td>\n",
       "      <td>0.500</td>\n",
       "      <td>0.274700</td>\n",
       "      <td>8500.0</td>\n",
       "      <td>23809.0</td>\n",
       "      <td>85</td>\n",
       "      <td>3579</td>\n",
       "      <td>0.92</td>\n",
       "      <td>21.63</td>\n",
       "    </tr>\n",
       "  </tbody>\n",
       "</table>\n",
       "</div>"
      ],
      "text/plain": [
       "   BP    MHc    MA0  MH0    LaL    XS_sig    B_DY    B_VBF  S_DY  S_VBF  \\\n",
       "0   3  200.0  189.5   65  0.009  0.066968  8500.0  23809.0   148     38   \n",
       "1   6  500.0  494.0   65  0.009  0.009063  8500.0  23809.0    68    198   \n",
       "2   7  750.0  750.0   65  0.009  0.008386  8500.0  23809.0    15    309   \n",
       "3   8  750.0  750.0  110  0.009  0.005455  8500.0  23809.0    10    234   \n",
       "4   9  750.0  750.0   65  0.500  0.274700  8500.0  23809.0    85   3579   \n",
       "\n",
       "   sigma_DY  sigma_VBF  \n",
       "0      1.59       0.25  \n",
       "1      0.73       1.28  \n",
       "2      0.16       1.99  \n",
       "3      0.11       1.51  \n",
       "4      0.92      21.63  "
      ]
     },
     "execution_count": 198,
     "metadata": {},
     "output_type": "execute_result"
    }
   ],
   "source": [
    "dfn['sigma_DY']=( dfn.S_DY/np.sqrt(dfn.S_DY+dfn.B_DY) ).map(round2)\n",
    "dfn['sigma_VBF']=( dfn.S_VBF/np.sqrt(dfn.S_VBF+dfn.B_VBF) ).map(round2)\n",
    "dfn"
   ]
  },
  {
   "cell_type": "code",
   "execution_count": 178,
   "metadata": {},
   "outputs": [
    {
     "name": "stdout",
     "output_type": "stream",
     "text": [
      "\\begin{tabular}{lrrrrrrrrrr}\n",
      "\\toprule\n",
      "{} &  BP &    MHc &    MA0 &  MH0 &    LaL &    XS\\_sig &    B\\_DY &    B\\_VBF &  S\\_DY &  S\\_VBF \\\\\n",
      "\\midrule\n",
      "0 &   3 &  200.0 &  189.5 &   65 &  0.009 &  0.066968 &  8500.0 &  24000.0 &   148 &     38 \\\\\n",
      "1 &   6 &  500.0 &  494.0 &   65 &  0.009 &  0.009063 &  8500.0 &  24000.0 &    68 &    198 \\\\\n",
      "2 &   7 &  750.0 &  750.0 &   65 &  0.009 &  0.008000 &  8500.0 &  24000.0 &    15 &    309 \\\\\n",
      "3 &   8 &  750.0 &  750.0 &  110 &  0.009 &  0.005455 &  8500.0 &  24000.0 &    10 &    234 \\\\\n",
      "4 &   9 &  750.0 &  750.0 &   65 &  0.500 &  0.274700 &  8500.0 &  24000.0 &    85 &   3579 \\\\\n",
      "\\bottomrule\n",
      "\\end{tabular}\n",
      "\n"
     ]
    }
   ],
   "source": [
    "print(dfn.to_latex())"
   ]
  },
  {
   "cell_type": "code",
   "execution_count": 70,
   "metadata": {},
   "outputs": [
    {
     "data": {
      "text/plain": [
       "(200, 65.0)"
      ]
     },
     "execution_count": 70,
     "metadata": {},
     "output_type": "execute_result"
    }
   ],
   "source": [
    "ps.MHc.astype(int),ps.MH0"
   ]
  },
  {
   "cell_type": "code",
   "execution_count": null,
   "metadata": {
    "collapsed": true
   },
   "outputs": [],
   "source": [
    "En_sig_0=TOTAL_ENTRIES[i][0]\n",
    "En_back_0=TOTAL_ENTRIES[i][0]\n",
    "En_back=TOTAL_ENTRIES[i][-1]\n",
    "En_sig=TOTAL_ENTRIES[i][-1]"
   ]
  },
  {
   "cell_type": "code",
   "execution_count": 12,
   "metadata": {},
   "outputs": [
    {
     "name": "stdout",
     "output_type": "stream",
     "text": [
      "208.611745175\n"
     ]
    }
   ],
   "source": [
    "local1=(TOTAL_ENT_END/TOTAL_ENT_START)*lumi*1000.*XS_sig\n",
    "print local1"
   ]
  },
  {
   "cell_type": "code",
   "execution_count": null,
   "metadata": {
    "collapsed": true
   },
   "outputs": [],
   "source": [
    "local=(TOTAL_ENT_END/TOTAL_ENT_START)*lumi*1000.*XSZvv\n",
    "print local"
   ]
  },
  {
   "cell_type": "code",
   "execution_count": null,
   "metadata": {
    "collapsed": true
   },
   "outputs": [],
   "source": [
    "statist(XS_sig,XSZvv,lumi,En_sig,En_back,En_sig_0,En_back_0)"
   ]
  },
  {
   "cell_type": "code",
   "execution_count": 30,
   "metadata": {},
   "outputs": [
    {
     "name": "stdout",
     "output_type": "stream",
     "text": [
      "['/home/gapalaci/Dropbox/tmp/pp_kk/check_1.root']\n",
      "~~~~~~~~~~~~~~~~~~~~~~~~~~~~~~~~~~~~~~~~~~~~~~~~~~~~~~~~~~~~~~~~~~~~~~~~~~~~~~~~~~~~\n",
      "/home/gapalaci/Dropbox/tmp/pp_kk/check_1.root Eff: 6.32780082988\n",
      "Entries before cuts: 964.0 Entries after cuts: 61.0\n",
      "~~~~~~~~~~~~~~~~~~~~~~~~~~~~~~~~~~~~~~~~~~~~~~~~~~~~~~~~~~~~~~~~~~~~~~~~~~~~~~~~~~~~\n",
      "WHAT THE HELL\n",
      "1928.0 122.0\n"
     ]
    }
   ],
   "source": [
    "#FILETOOPEN=\"/home/rsiii/IDM_VBF/Samples/Signal/signal_pp_h2h2jj.root\"\n",
    "#FILETOOPEN=\"/home/rsiii/IDM_VBF/Samples/Signal/signal_pp_h2h2jj_LaL_0_2.root\"\n",
    "#\"\"\"FILES=[\"/home/rsiii/IDM_VBF/Samples/testing_gapalaci/tag_1_delphes_events.root]\"\"\"\n",
    "\"\"\"FILES=[\"/home/gapalaci/IDM_VBF/Samples/Signal/]\"\"\"\n",
    "#FILES=[\"/home/rsiii/IDM_VBF/Samples/Signal/signal_pp_h2h2jj_17.root\"]\n",
    "#FILES=[\"/home/rsiii/IDM_VBF/Samples/Signal/signal_pp_h2h2jj_LaL_0_2.root\"]#,\n",
    "      #\"/home/rsiii/IDM_VBF/Samples/Zvv_jets/Zvv_jets_13/run_07_delphes.root\"]\n",
    "\n",
    "\"\"\"PrePath=\"/home/rsiii/IDM_VBF/Samples/mh0_vs_lal/scan/\"\n",
    "#LSFILES=cmd.getoutput(\"ls \"+PrePath+\"*_mhp_250_*\")\n",
    "LSFILES2=cmd.getoutput(\"ls \"+PrePath+\"delphes_events_??_???_.root\")\n",
    "LSFILES3=cmd.getoutput(\"ls \"+PrePath+\"delphes_events_???_???_.root\")\n",
    "LSFILES=LSFILES2+LSFILES3\n",
    "print LSFILES\n",
    "FILES=[]\n",
    "for i in LSFILES.split(\"\\n\"):\n",
    "    if \".root\" in i: FILES.append(i)#PrePath+i) \n",
    "FILES.sort()\n",
    "#print FILES\"\"\"\n",
    "        \n",
    "HToExtract=[\"TMath::Sqrt(2*Jet[0].PT*Jet[1].PT*(TMath::CosH(Jet[1].Eta-Jet[0].Eta)-(TMath::Cos(Jet[1].Phi-Jet[0].Phi))))\",\n",
    "           \"TMath::Sqrt(2*Jet[0].PT*Jet[1].PT*(TMath::CosH(Jet[1].Eta-Jet[0].Eta)-(TMath::Cos(Jet[1].Phi-Jet[0].Phi))))\"]\n",
    "\n",
    "#HToExtract=[\"deltaPhi(Jet[0].Phi,Jet[1].Phi)\",\"deltaPhi(MissingET.Phi,Jet[0].Phi)\",\"deltaPhi(MissingET.Phi,Jet[1].Phi)\",\n",
    "#            \"deltaPhi(Jet[0].Phi,Jet[1].Phi)\",\"deltaPhi(MissingET.Phi,Jet[0].Phi)\",\"deltaPhi(MissingET.Phi,Jet[1].Phi)\"]\n",
    "\n",
    "#HToExtract=[\"Jet_size\",\"Jet_size\",\"Jet_size\",\"Jet_size\"]\n",
    "\n",
    "Binning=[\"(200,10,5000)\",\"(200,10,5000)\"]\n",
    "#Binning=[\"(10,0,3.2)\",\"(10,0,3.2)\",\"(10,0,3.2)\",\"(10,0,3.2)\",\"(10,0,3.2)\",\"(10,0,3.2)\"]\n",
    "#Binning=[\"(10,0,10)\",\"(10,0,10)\",\"(10,0,10)\",\"(10,0,10)\"]\n",
    "\n",
    "Cut0=\"(MissingET.MET>180.)\"\n",
    "Cut1=\"(Jet[0].PT>100.)\"\n",
    "Cut2=\"(Jet[1].PT>50.)\"\n",
    "Cut3=\"(TMath::Abs(Jet[0].Eta)<5.)\"\n",
    "Cut4=\"(TMath::Abs(Jet[1].Eta)<5.)\"\n",
    "Cut5=\"(TMath::Abs(Jet[0].Eta-Jet[1].Eta)>4.2)\"\n",
    "Cut6=\"((Jet[0].Eta*Jet[1].Eta)<0.)\"\n",
    "Cut7=\"((TMath::Sqrt(2*Jet[0].PT*Jet[1].PT*(TMath::CosH(Jet[1].Eta-Jet[0].Eta)-(TMath::Cos(Jet[1].Phi-Jet[0].Phi)))))>1000.)\"\n",
    "CutJM=\"(Jet_size>=2)\"\n",
    "#Cut8=\"(deltaPhi(MissingET.Phi,Jet[1].Phi)>0.5)\"\n",
    "\n",
    "VBF=CutJM+\"&&\"+Cut3+\"&&\"+Cut4+\"&&\"+Cut6+\"&&\"+Cut0\n",
    "VBFandOS=VBF+\"&&\"+Cut5\n",
    "JetsPT=Cut1+\"&&\"+Cut2 #+\"&&\"+Cut0\n",
    "\n",
    "Cuts=[\"\",VBFandOS+\"&&\"+JetsPT+\"&&\"+Cut7]\n",
    "#Cuts=[\"\",\"\",\"\",VBFandOS+\"&&\"+JetsPT+\"&&\"+Cut7,VBFandOS+\"&&\"+JetsPT+\"&&\"+Cut7,VBFandOS+\"&&\"+JetsPT+\"&&\"+Cut7]\n",
    "#CentralJetsCut=\"((TMath::Abs(Jet[0].Eta)<3.)&&(TMath::Abs(Jet[1].Eta)<3.)&&(TMath::Abs(Jet[2].Eta)<3.)&&(TMath::Abs(Jet[3].Eta)<3.)&&(TMath::Abs(Jet[4].Eta)<3.)&&(TMath::Abs(Jet[5].Eta)<3.)&&(TMath::Abs(Jet[6].Eta)<3.)&&(TMath::Abs(Jet[7].Eta)<3.))\"\n",
    "#CentralJetsCut=\"((TMath::Abs(Jet.Eta)<3.)*(1./Jet_size))\"\n",
    "#Cuts=[\"\",CentralJetsCut,VBFandOS+\"&&\"+JetsPT+\"&&\"+Cut7,VBFandOS+\"&&\"+JetsPT+\"&&\"+Cut7+\"&&\"+CentralJetsCut]\n",
    "\n",
    "\n",
    "#PDFfile=\"IDM_VBFDM_LaLvsMH0\"\n",
    "#GetHistoPy(RootFile,Tree,Var,BinsLim,CutApp,PDFname,DrawOpt)\n",
    "#GetHistoPy(FILETOOPEN,\"Delphes\",HToExtract,Binning,Cuts,PDFfile,\"hist E\")\n",
    "\n",
    "print FILES\n",
    "TOTAL_ENTRIES=[]\n",
    "Efficiency=[]\n",
    "TOTAL_ENT_START=0\n",
    "TOTAL_ENT_END=0\n",
    "\n",
    "for i in xrange(len(FILES)):\n",
    "    time.sleep(.1)\n",
    "    PDFfile=\"IDM_VBFDM_LaLvsMH0_\"+str(i)+\".pdf\"\n",
    "    TOTAL_ENTRIES.append(GetHistoPy(FILES[i],\"Delphes\",HToExtract,Binning,Cuts,PDFfile,\"hist E\"))\n",
    "    print \"~~~~~~~~~~~~~~~~~~~~~~~~~~~~~~~~~~~~~~~~~~~~~~~~~~~~~~~~~~~~~~~~~~~~~~~~~~~~~~~~~~~~\"\n",
    "    print FILES[i], \"Eff:\", 100*TOTAL_ENTRIES[i][-1]/TOTAL_ENTRIES[i][0]\n",
    "    Efficiency.append(100*TOTAL_ENTRIES[i][-1]/TOTAL_ENTRIES[i][0])\n",
    "    print \"Entries before cuts:\", TOTAL_ENTRIES[i][0], \"Entries after cuts:\", TOTAL_ENTRIES[i][-1]\n",
    "    print \"~~~~~~~~~~~~~~~~~~~~~~~~~~~~~~~~~~~~~~~~~~~~~~~~~~~~~~~~~~~~~~~~~~~~~~~~~~~~~~~~~~~~\"\n",
    "    TOTAL_ENT_START=TOTAL_ENT_START + TOTAL_ENTRIES[0][0] + TOTAL_ENTRIES[i][0]\n",
    "    TOTAL_ENT_END  =TOTAL_ENT_END + TOTAL_ENTRIES[0][-1] + TOTAL_ENTRIES[i][-1]\n",
    "print \"WHAT THE HELL\"\n",
    "print TOTAL_ENT_START, TOTAL_ENT_END\n",
    "#print FILES\n",
    "#print Efficiency"
   ]
  },
  {
   "cell_type": "code",
   "execution_count": null,
   "metadata": {
    "collapsed": true
   },
   "outputs": [],
   "source": [
    "#lumi=30.\n",
    "XSZvv"
   ]
  },
  {
   "cell_type": "code",
   "execution_count": null,
   "metadata": {
    "collapsed": true
   },
   "outputs": [],
   "source": [
    "local4=100*(TOTAL_ENT_END/TOTAL_ENT_START), (TOTAL_ENT_END/TOTAL_ENT_START)*lumi*1000.*XSZvv\n",
    "print local4"
   ]
  },
  {
   "cell_type": "code",
   "execution_count": 14,
   "metadata": {},
   "outputs": [
    {
     "name": "stdout",
     "output_type": "stream",
     "text": [
      "55.6297987134\n"
     ]
    }
   ],
   "source": [
    "local3=(TOTAL_ENT_END/TOTAL_ENT_START)*lumi*1000.*XS_sig\n",
    "print local3"
   ]
  },
  {
   "cell_type": "code",
   "execution_count": null,
   "metadata": {
    "collapsed": true
   },
   "outputs": [],
   "source": [
    "local2=(TOTAL_ENT_END/TOTAL_ENT_START)*lumi*1000.*XSZvv\n",
    "print local2"
   ]
  },
  {
   "cell_type": "code",
   "execution_count": null,
   "metadata": {
    "collapsed": true
   },
   "outputs": [],
   "source": [
    "print TOTAL_ENT_END, TOTAL_ENT_START, 100*TOTAL_ENT_END/TOTAL_ENT_START"
   ]
  },
  {
   "cell_type": "code",
   "execution_count": 19,
   "metadata": {
    "collapsed": true
   },
   "outputs": [],
   "source": [
    "def stattt(Ns,Nb):\n",
    "    import numpy as np\n",
    "    Sig=Ns/np.sqrt(Ns+Nb)\n",
    "    return Sig"
   ]
  },
  {
   "cell_type": "code",
   "execution_count": 20,
   "metadata": {},
   "outputs": [
    {
     "data": {
      "text/plain": [
       "1.2316358876991065"
      ]
     },
     "execution_count": 20,
     "metadata": {},
     "output_type": "execute_result"
    }
   ],
   "source": [
    "stattt(208.6,28477)"
   ]
  },
  {
   "cell_type": "code",
   "execution_count": 21,
   "metadata": {},
   "outputs": [
    {
     "data": {
      "text/plain": [
       "3.1134481933733498"
      ]
     },
     "execution_count": 21,
     "metadata": {},
     "output_type": "execute_result"
    }
   ],
   "source": [
    "stattt(6000,3707806)"
   ]
  },
  {
   "cell_type": "markdown",
   "metadata": {},
   "source": [
    "stattt(208.6,28477)stattt(208.6,28477)"
   ]
  },
  {
   "cell_type": "code",
   "execution_count": 22,
   "metadata": {
    "collapsed": true
   },
   "outputs": [],
   "source": [
    "s_o=55.6\n",
    "s_t=208.6\n",
    "b_o=296725.\n",
    "b_t=2278."
   ]
  },
  {
   "cell_type": "code",
   "execution_count": 25,
   "metadata": {},
   "outputs": [
    {
     "name": "stdout",
     "output_type": "stream",
     "text": [
      "4.18322610917 0.102060346236\n"
     ]
    }
   ],
   "source": [
    "print stattt(s_t,b_t), stattt(s_o,b_o)"
   ]
  },
  {
   "cell_type": "code",
   "execution_count": null,
   "metadata": {
    "collapsed": true
   },
   "outputs": [],
   "source": []
  }
 ],
 "metadata": {
  "kernelspec": {
   "display_name": "Python 2",
   "language": "python",
   "name": "python2"
  },
  "language_info": {
   "codemirror_mode": {
    "name": "ipython",
    "version": 2
   },
   "file_extension": ".py",
   "mimetype": "text/x-python",
   "name": "python",
   "nbconvert_exporter": "python",
   "pygments_lexer": "ipython2",
   "version": "2.7.9"
  },
  "latex_envs": {
   "LaTeX_envs_menu_present": true,
   "bibliofile": "biblio.bib",
   "cite_by": "apalike",
   "current_citInitial": 1,
   "eqLabelWithNumbers": true,
   "eqNumInitial": 1,
   "labels_anchors": false,
   "latex_user_defs": false,
   "report_style_numbering": false,
   "user_envs_cfg": false
  },
  "toc": {
   "colors": {
    "hover_highlight": "#DAA520",
    "running_highlight": "#FF0000",
    "selected_highlight": "#FFD700"
   },
   "moveMenuLeft": true,
   "nav_menu": {
    "height": "120px",
    "width": "252px"
   },
   "navigate_menu": true,
   "number_sections": true,
   "sideBar": true,
   "threshold": 4,
   "toc_cell": false,
   "toc_section_display": "block",
   "toc_window_display": false
  }
 },
 "nbformat": 4,
 "nbformat_minor": 1
}
